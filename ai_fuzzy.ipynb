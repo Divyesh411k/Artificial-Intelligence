{
  "nbformat": 4,
  "nbformat_minor": 0,
  "metadata": {
    "colab": {
      "provenance": []
    },
    "kernelspec": {
      "name": "python3",
      "display_name": "Python 3"
    },
    "language_info": {
      "name": "python"
    }
  },
  "cells": [
    {
      "cell_type": "code",
      "source": [
        "!pip install fuzzywuzzy\n",
        "!pip install python-Levenshtein"
      ],
      "metadata": {
        "colab": {
          "base_uri": "https://localhost:8080/"
        },
        "id": "qJmiFvjhzQ5b",
        "outputId": "8b70dfab-f85e-47b0-c031-5b5254f2c635"
      },
      "execution_count": null,
      "outputs": [
        {
          "output_type": "stream",
          "name": "stdout",
          "text": [
            "Collecting fuzzywuzzy\n",
            "  Downloading fuzzywuzzy-0.18.0-py2.py3-none-any.whl (18 kB)\n",
            "Installing collected packages: fuzzywuzzy\n",
            "Successfully installed fuzzywuzzy-0.18.0\n",
            "Collecting python-Levenshtein\n",
            "  Downloading python_Levenshtein-0.23.0-py3-none-any.whl (9.4 kB)\n",
            "Collecting Levenshtein==0.23.0 (from python-Levenshtein)\n",
            "  Downloading Levenshtein-0.23.0-cp310-cp310-manylinux_2_17_x86_64.manylinux2014_x86_64.whl (169 kB)\n",
            "\u001b[2K     \u001b[90m━━━━━━━━━━━━━━━━━━━━━━━━━━━━━━━━━━━━━━━━\u001b[0m \u001b[32m169.4/169.4 kB\u001b[0m \u001b[31m4.6 MB/s\u001b[0m eta \u001b[36m0:00:00\u001b[0m\n",
            "\u001b[?25hCollecting rapidfuzz<4.0.0,>=3.1.0 (from Levenshtein==0.23.0->python-Levenshtein)\n",
            "  Downloading rapidfuzz-3.5.2-cp310-cp310-manylinux_2_17_x86_64.manylinux2014_x86_64.whl (3.3 MB)\n",
            "\u001b[2K     \u001b[90m━━━━━━━━━━━━━━━━━━━━━━━━━━━━━━━━━━━━━━━━\u001b[0m \u001b[32m3.3/3.3 MB\u001b[0m \u001b[31m21.3 MB/s\u001b[0m eta \u001b[36m0:00:00\u001b[0m\n",
            "\u001b[?25hInstalling collected packages: rapidfuzz, Levenshtein, python-Levenshtein\n",
            "Successfully installed Levenshtein-0.23.0 python-Levenshtein-0.23.0 rapidfuzz-3.5.2\n"
          ]
        }
      ]
    },
    {
      "cell_type": "code",
      "source": [
        "x=[1,3,5]\n",
        "y=[1,3,5]"
      ],
      "metadata": {
        "id": "tRoj25dLuM-U"
      },
      "execution_count": null,
      "outputs": []
    },
    {
      "cell_type": "code",
      "execution_count": null,
      "metadata": {
        "id": "V05AlCsptMwB"
      },
      "outputs": [],
      "source": [
        "def R(x,y):\n",
        "  if (y==x+2):\n",
        "    return 1\n",
        "  else:\n",
        "    return 0"
      ]
    },
    {
      "cell_type": "code",
      "source": [
        "def S(x,y):\n",
        "  if (y>x):\n",
        "    return 1\n",
        "  else:\n",
        "    return 0"
      ],
      "metadata": {
        "id": "jVf0u677t-dW"
      },
      "execution_count": null,
      "outputs": []
    },
    {
      "cell_type": "code",
      "source": [
        "R(1,3)"
      ],
      "metadata": {
        "colab": {
          "base_uri": "https://localhost:8080/"
        },
        "id": "aUTo8nUouE51",
        "outputId": "32a17746-fb35-4dbe-ef71-e37406fed5a9"
      },
      "execution_count": null,
      "outputs": [
        {
          "output_type": "execute_result",
          "data": {
            "text/plain": [
              "1"
            ]
          },
          "metadata": {},
          "execution_count": 4
        }
      ]
    },
    {
      "cell_type": "code",
      "source": [
        "M1=[]\n",
        "for i in range(3):\n",
        "  a=[]\n",
        "  for j in range(3):\n",
        "    a.append(R(x[i],y[j]))\n",
        "  M1.append(a)\n",
        "M1"
      ],
      "metadata": {
        "id": "ims4A8JHuKV7",
        "colab": {
          "base_uri": "https://localhost:8080/"
        },
        "outputId": "8769025f-89fb-4541-87aa-52ceeb9d026c"
      },
      "execution_count": null,
      "outputs": [
        {
          "output_type": "execute_result",
          "data": {
            "text/plain": [
              "[[0, 1, 0], [0, 0, 1], [0, 0, 0]]"
            ]
          },
          "metadata": {},
          "execution_count": 5
        }
      ]
    },
    {
      "cell_type": "code",
      "source": [
        "M2=[]\n",
        "for i in range(3):\n",
        "  a=[]\n",
        "  for j in range(3):\n",
        "    a.append(S(x[i],y[j]))\n",
        "  M2.append(a)\n",
        "M2"
      ],
      "metadata": {
        "colab": {
          "base_uri": "https://localhost:8080/"
        },
        "id": "1udbnUMvIjWl",
        "outputId": "5958e0f9-d06a-442e-9723-d278a9a1f105"
      },
      "execution_count": null,
      "outputs": [
        {
          "output_type": "execute_result",
          "data": {
            "text/plain": [
              "[[0, 1, 1], [0, 0, 1], [0, 0, 0]]"
            ]
          },
          "metadata": {},
          "execution_count": 6
        }
      ]
    },
    {
      "cell_type": "code",
      "source": [
        "s1=[]\n",
        "s2=[]\n",
        "def find1(matrix,s):\n",
        "  for i in range(3):\n",
        "    for j in range(3):\n",
        "      if matrix[i][j]==1:\n",
        "         s.append((i,j))\n",
        "  print(s)\n",
        "\n",
        "find1(M1,s1)\n",
        "find1(M2,s2)"
      ],
      "metadata": {
        "id": "PTrUJ54wJLxb",
        "colab": {
          "base_uri": "https://localhost:8080/"
        },
        "outputId": "ee95f6fc-de38-445e-a30d-010720ffd1ad"
      },
      "execution_count": null,
      "outputs": [
        {
          "output_type": "stream",
          "name": "stdout",
          "text": [
            "[(0, 1), (1, 2)]\n",
            "[(0, 1), (0, 2), (1, 2)]\n"
          ]
        }
      ]
    },
    {
      "cell_type": "code",
      "source": [
        "rel=[]\n",
        "def relation(m1,m2):\n",
        " for i in range(3):#r1\n",
        "    row = []\n",
        "    for j in range(3):#c2\n",
        "      a=[]\n",
        "      for k in range(3):#r2\n",
        "          a.append(min(m1[i][k],m2[k][j]))\n",
        "      row.append(max(a))\n",
        "    rel.append(row)\n",
        " return rel\n",
        "\n",
        "relation(M1,M2)\n",
        "rel"
      ],
      "metadata": {
        "colab": {
          "base_uri": "https://localhost:8080/"
        },
        "id": "J-h1801pjR7y",
        "outputId": "f3ad1e98-f67c-43bd-b586-5837cbfe5454"
      },
      "execution_count": null,
      "outputs": [
        {
          "output_type": "execute_result",
          "data": {
            "text/plain": [
              "[[0, 0, 1], [0, 0, 0], [0, 0, 0]]"
            ]
          },
          "metadata": {},
          "execution_count": 8
        }
      ]
    },
    {
      "cell_type": "code",
      "source": [
        "def cartesian():\n",
        "    n = int(input(\"\\nEnter number of elements in first set (A): \"))\n",
        "    A = []\n",
        "    B = []\n",
        "    print(\"Enter elements for A:\")\n",
        "    for i in range(0, n):\n",
        "        ele = float(input())\n",
        "        A.append(ele)\n",
        "    m = int(input(\"\\nEnter number of elements in second set (B): \"))\n",
        "    print(\"Enter elements for B:\")\n",
        "    for i in range(0, m):\n",
        "        ele = float(input())\n",
        "        B.append(ele)\n",
        "    print(\"A = {\"+str(A)[1:-1]+\"}\")\n",
        "    print(\"B = {\"+str(B)[1:-1]+\"}\")\n",
        "    cart_prod = []\n",
        "    cart_prod = [[0 for j in range(m)]for i in range(n)]\n",
        "    for i in range(n):\n",
        "        for j in range(m):\n",
        "            cart_prod[i][j] = min(A[i],B[j])\n",
        "    print(\"A x B = \")\n",
        "    for i in range(n):\n",
        "        for j in range(m):\n",
        "            print(cart_prod[i][j],end=\"  \")\n",
        "        print(\"\\n\")\n",
        "    return\n"
      ],
      "metadata": {
        "id": "0nn0Pw3vStc-"
      },
      "execution_count": null,
      "outputs": []
    }
  ]
}