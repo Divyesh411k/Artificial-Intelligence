{
  "nbformat": 4,
  "nbformat_minor": 0,
  "metadata": {
    "colab": {
      "provenance": []
    },
    "kernelspec": {
      "name": "python3",
      "display_name": "Python 3"
    },
    "language_info": {
      "name": "python"
    }
  },
  "cells": [
    {
      "cell_type": "markdown",
      "source": [
        "#TSP using genetic"
      ],
      "metadata": {
        "id": "OsJORmqbn0p1"
      }
    },
    {
      "cell_type": "code",
      "source": [
        "intiLIZE\n",
        "all combinations\n",
        "FITNESS\n",
        "rulewheel\n"
      ],
      "metadata": {
        "id": "gsSZh9b7n-W0"
      },
      "execution_count": null,
      "outputs": []
    },
    {
      "cell_type": "code",
      "execution_count": null,
      "metadata": {
        "id": "1DJ3vzZ6lm_g",
        "colab": {
          "base_uri": "https://localhost:8080/",
          "height": 390
        },
        "outputId": "f4f585e6-8606-4a7f-adb0-ee5ed0762faf"
      },
      "outputs": [
        {
          "output_type": "error",
          "ename": "KeyboardInterrupt",
          "evalue": "ignored",
          "traceback": [
            "\u001b[0;31m---------------------------------------------------------------------------\u001b[0m",
            "\u001b[0;31mKeyboardInterrupt\u001b[0m                         Traceback (most recent call last)",
            "\u001b[0;32m<ipython-input-97-ea0e40bb85f9>\u001b[0m in \u001b[0;36m<cell line: 1>\u001b[0;34m()\u001b[0m\n\u001b[0;32m----> 1\u001b[0;31m \u001b[0mn\u001b[0m\u001b[0;34m=\u001b[0m\u001b[0mint\u001b[0m\u001b[0;34m(\u001b[0m\u001b[0minput\u001b[0m\u001b[0;34m(\u001b[0m\u001b[0;34m\"Enter number of cities\"\u001b[0m\u001b[0;34m)\u001b[0m\u001b[0;34m)\u001b[0m\u001b[0;34m\u001b[0m\u001b[0;34m\u001b[0m\u001b[0m\n\u001b[0m\u001b[1;32m      2\u001b[0m \u001b[0mcities\u001b[0m\u001b[0;34m=\u001b[0m\u001b[0;34m[\u001b[0m\u001b[0;34m]\u001b[0m\u001b[0;34m\u001b[0m\u001b[0;34m\u001b[0m\u001b[0m\n\u001b[1;32m      3\u001b[0m \u001b[0;32mfor\u001b[0m \u001b[0mi\u001b[0m \u001b[0;32min\u001b[0m \u001b[0mrange\u001b[0m\u001b[0;34m(\u001b[0m\u001b[0mn\u001b[0m\u001b[0;34m)\u001b[0m\u001b[0;34m:\u001b[0m\u001b[0;34m\u001b[0m\u001b[0;34m\u001b[0m\u001b[0m\n\u001b[1;32m      4\u001b[0m   \u001b[0mcities\u001b[0m\u001b[0;34m.\u001b[0m\u001b[0mappend\u001b[0m\u001b[0;34m(\u001b[0m\u001b[0minput\u001b[0m\u001b[0;34m(\u001b[0m\u001b[0;34mf\"Enter city {i+1}:\"\u001b[0m\u001b[0;34m)\u001b[0m\u001b[0;34m)\u001b[0m\u001b[0;34m\u001b[0m\u001b[0;34m\u001b[0m\u001b[0m\n\u001b[1;32m      5\u001b[0m \u001b[0mprint\u001b[0m\u001b[0;34m(\u001b[0m\u001b[0mcities\u001b[0m\u001b[0;34m)\u001b[0m\u001b[0;34m\u001b[0m\u001b[0;34m\u001b[0m\u001b[0m\n",
            "\u001b[0;32m/usr/local/lib/python3.10/dist-packages/ipykernel/kernelbase.py\u001b[0m in \u001b[0;36mraw_input\u001b[0;34m(self, prompt)\u001b[0m\n\u001b[1;32m    849\u001b[0m                 \u001b[0;34m\"raw_input was called, but this frontend does not support input requests.\"\u001b[0m\u001b[0;34m\u001b[0m\u001b[0;34m\u001b[0m\u001b[0m\n\u001b[1;32m    850\u001b[0m             )\n\u001b[0;32m--> 851\u001b[0;31m         return self._input_request(str(prompt),\n\u001b[0m\u001b[1;32m    852\u001b[0m             \u001b[0mself\u001b[0m\u001b[0;34m.\u001b[0m\u001b[0m_parent_ident\u001b[0m\u001b[0;34m,\u001b[0m\u001b[0;34m\u001b[0m\u001b[0;34m\u001b[0m\u001b[0m\n\u001b[1;32m    853\u001b[0m             \u001b[0mself\u001b[0m\u001b[0;34m.\u001b[0m\u001b[0m_parent_header\u001b[0m\u001b[0;34m,\u001b[0m\u001b[0;34m\u001b[0m\u001b[0;34m\u001b[0m\u001b[0m\n",
            "\u001b[0;32m/usr/local/lib/python3.10/dist-packages/ipykernel/kernelbase.py\u001b[0m in \u001b[0;36m_input_request\u001b[0;34m(self, prompt, ident, parent, password)\u001b[0m\n\u001b[1;32m    893\u001b[0m             \u001b[0;32mexcept\u001b[0m \u001b[0mKeyboardInterrupt\u001b[0m\u001b[0;34m:\u001b[0m\u001b[0;34m\u001b[0m\u001b[0;34m\u001b[0m\u001b[0m\n\u001b[1;32m    894\u001b[0m                 \u001b[0;31m# re-raise KeyboardInterrupt, to truncate traceback\u001b[0m\u001b[0;34m\u001b[0m\u001b[0;34m\u001b[0m\u001b[0m\n\u001b[0;32m--> 895\u001b[0;31m                 \u001b[0;32mraise\u001b[0m \u001b[0mKeyboardInterrupt\u001b[0m\u001b[0;34m(\u001b[0m\u001b[0;34m\"Interrupted by user\"\u001b[0m\u001b[0;34m)\u001b[0m \u001b[0;32mfrom\u001b[0m \u001b[0;32mNone\u001b[0m\u001b[0;34m\u001b[0m\u001b[0;34m\u001b[0m\u001b[0m\n\u001b[0m\u001b[1;32m    896\u001b[0m             \u001b[0;32mexcept\u001b[0m \u001b[0mException\u001b[0m \u001b[0;32mas\u001b[0m \u001b[0me\u001b[0m\u001b[0;34m:\u001b[0m\u001b[0;34m\u001b[0m\u001b[0;34m\u001b[0m\u001b[0m\n\u001b[1;32m    897\u001b[0m                 \u001b[0mself\u001b[0m\u001b[0;34m.\u001b[0m\u001b[0mlog\u001b[0m\u001b[0;34m.\u001b[0m\u001b[0mwarning\u001b[0m\u001b[0;34m(\u001b[0m\u001b[0;34m\"Invalid Message:\"\u001b[0m\u001b[0;34m,\u001b[0m \u001b[0mexc_info\u001b[0m\u001b[0;34m=\u001b[0m\u001b[0;32mTrue\u001b[0m\u001b[0;34m)\u001b[0m\u001b[0;34m\u001b[0m\u001b[0;34m\u001b[0m\u001b[0m\n",
            "\u001b[0;31mKeyboardInterrupt\u001b[0m: Interrupted by user"
          ]
        }
      ],
      "source": [
        "n=int(input(\"Enter number of cities\"))\n",
        "cities=[]\n",
        "for i in range(n):\n",
        "  cities.append(input(f\"Enter city {i+1}:\"))\n",
        "print(cities)\n",
        "city=[]\n",
        "print(\"Enter cost matrix for cities\")\n",
        "for i in range(n):\n",
        "    a =[]\n",
        "    for j in range(n):\n",
        "         a.append(int(input()))\n",
        "    city.append(a)\n",
        "\n",
        "for i in range(n):\n",
        "    for j in range(n):\n",
        "        print(city[i][j],end = \" \")\n",
        "    print()"
      ]
    },
    {
      "cell_type": "code",
      "source": [
        "city = [\n",
        "    [0, 10, 15, 20, 25],\n",
        "    [10, 0, 35, 40, 45],\n",
        "    [15, 35, 0, 55, 60],\n",
        "    [20, 40, 55, 0, 70],\n",
        "    [25, 45, 60, 70, 0]\n",
        "]\n",
        "n=5\n",
        "cities=['A', 'B', 'C','D','E']"
      ],
      "metadata": {
        "id": "fguLeSUxvVXS"
      },
      "execution_count": null,
      "outputs": []
    },
    {
      "cell_type": "code",
      "source": [
        "import itertools\n",
        "import random\n",
        "\n",
        "permutations = list(itertools.permutations(cities, n))\n",
        "combinations = list(itertools.combinations(cities, n))\n",
        "solutions = set(permutations + combinations)\n",
        "\n",
        "all_solutions = list(solutions)\n",
        "random.shuffle(all_solutions)\n",
        "\n",
        "for i, solution in enumerate(all_solutions, start=1):\n",
        "    print(f\"Solution {i}: {', '.join(solution)}\")\n",
        "population = random.sample(all_solutions, n)"
      ],
      "metadata": {
        "colab": {
          "base_uri": "https://localhost:8080/"
        },
        "id": "JkNMCSInsllU",
        "outputId": "0e1415fe-45fc-41c9-e6a1-574ffbb2bc85"
      },
      "execution_count": null,
      "outputs": [
        {
          "output_type": "stream",
          "name": "stdout",
          "text": [
            "Solution 1: B, D, C, A, E\n",
            "Solution 2: A, C, B, D, E\n",
            "Solution 3: B, C, E, D, A\n",
            "Solution 4: B, A, D, E, C\n",
            "Solution 5: C, D, B, E, A\n",
            "Solution 6: D, A, C, E, B\n",
            "Solution 7: D, C, A, E, B\n",
            "Solution 8: E, B, A, D, C\n",
            "Solution 9: D, E, A, B, C\n",
            "Solution 10: D, C, B, A, E\n",
            "Solution 11: A, D, E, B, C\n",
            "Solution 12: B, E, D, C, A\n",
            "Solution 13: B, D, E, C, A\n",
            "Solution 14: A, E, C, D, B\n",
            "Solution 15: C, D, B, A, E\n",
            "Solution 16: E, A, D, C, B\n",
            "Solution 17: C, E, B, A, D\n",
            "Solution 18: B, A, D, C, E\n",
            "Solution 19: C, D, E, A, B\n",
            "Solution 20: E, B, D, C, A\n",
            "Solution 21: C, A, E, D, B\n",
            "Solution 22: D, B, A, E, C\n",
            "Solution 23: A, E, D, B, C\n",
            "Solution 24: E, B, A, C, D\n",
            "Solution 25: D, A, C, B, E\n",
            "Solution 26: C, E, A, B, D\n",
            "Solution 27: B, E, A, D, C\n",
            "Solution 28: B, D, A, C, E\n",
            "Solution 29: E, A, C, D, B\n",
            "Solution 30: D, E, B, C, A\n",
            "Solution 31: C, B, D, E, A\n",
            "Solution 32: E, B, D, A, C\n",
            "Solution 33: D, A, E, C, B\n",
            "Solution 34: D, A, E, B, C\n",
            "Solution 35: E, C, B, D, A\n",
            "Solution 36: E, C, D, A, B\n",
            "Solution 37: E, D, A, B, C\n",
            "Solution 38: B, D, C, E, A\n",
            "Solution 39: C, D, A, B, E\n",
            "Solution 40: E, B, C, D, A\n",
            "Solution 41: A, B, E, D, C\n",
            "Solution 42: B, A, E, C, D\n",
            "Solution 43: C, A, D, E, B\n",
            "Solution 44: D, E, C, B, A\n",
            "Solution 45: A, C, D, E, B\n",
            "Solution 46: E, D, A, C, B\n",
            "Solution 47: C, B, A, D, E\n",
            "Solution 48: C, B, E, D, A\n",
            "Solution 49: D, B, E, A, C\n",
            "Solution 50: A, E, B, D, C\n",
            "Solution 51: C, E, D, A, B\n",
            "Solution 52: D, B, C, A, E\n",
            "Solution 53: C, D, A, E, B\n",
            "Solution 54: E, D, B, C, A\n",
            "Solution 55: B, E, D, A, C\n",
            "Solution 56: D, E, A, C, B\n",
            "Solution 57: E, C, B, A, D\n",
            "Solution 58: E, A, C, B, D\n",
            "Solution 59: A, D, B, C, E\n",
            "Solution 60: A, E, C, B, D\n",
            "Solution 61: D, A, B, C, E\n",
            "Solution 62: E, A, D, B, C\n",
            "Solution 63: B, A, C, D, E\n",
            "Solution 64: E, A, B, D, C\n",
            "Solution 65: B, E, C, D, A\n",
            "Solution 66: A, B, C, D, E\n",
            "Solution 67: D, B, E, C, A\n",
            "Solution 68: D, C, E, A, B\n",
            "Solution 69: E, B, C, A, D\n",
            "Solution 70: B, C, A, D, E\n",
            "Solution 71: E, D, B, A, C\n",
            "Solution 72: A, B, D, C, E\n",
            "Solution 73: D, C, E, B, A\n",
            "Solution 74: C, E, B, D, A\n",
            "Solution 75: C, A, B, E, D\n",
            "Solution 76: D, A, B, E, C\n",
            "Solution 77: B, A, E, D, C\n",
            "Solution 78: B, E, A, C, D\n",
            "Solution 79: B, C, D, A, E\n",
            "Solution 80: A, B, C, E, D\n",
            "Solution 81: D, C, A, B, E\n",
            "Solution 82: D, E, C, A, B\n",
            "Solution 83: B, E, C, A, D\n",
            "Solution 84: A, C, E, B, D\n",
            "Solution 85: D, B, C, E, A\n",
            "Solution 86: A, E, D, C, B\n",
            "Solution 87: D, E, B, A, C\n",
            "Solution 88: E, C, A, D, B\n",
            "Solution 89: B, A, C, E, D\n",
            "Solution 90: B, D, A, E, C\n",
            "Solution 91: C, B, A, E, D\n",
            "Solution 92: E, C, D, B, A\n",
            "Solution 93: C, E, D, B, A\n",
            "Solution 94: C, A, B, D, E\n",
            "Solution 95: C, B, E, A, D\n",
            "Solution 96: B, C, D, E, A\n",
            "Solution 97: A, B, E, C, D\n",
            "Solution 98: A, B, D, E, C\n",
            "Solution 99: E, C, A, B, D\n",
            "Solution 100: A, D, C, B, E\n",
            "Solution 101: C, E, A, D, B\n",
            "Solution 102: A, E, B, C, D\n",
            "Solution 103: C, D, E, B, A\n",
            "Solution 104: C, A, D, B, E\n",
            "Solution 105: A, D, B, E, C\n",
            "Solution 106: A, D, C, E, B\n",
            "Solution 107: B, C, A, E, D\n",
            "Solution 108: E, A, B, C, D\n",
            "Solution 109: A, C, D, B, E\n",
            "Solution 110: A, C, B, E, D\n",
            "Solution 111: A, D, E, C, B\n",
            "Solution 112: C, B, D, A, E\n",
            "Solution 113: B, D, E, A, C\n",
            "Solution 114: D, C, B, E, A\n",
            "Solution 115: D, B, A, C, E\n",
            "Solution 116: C, A, E, B, D\n",
            "Solution 117: E, D, C, A, B\n",
            "Solution 118: E, D, C, B, A\n",
            "Solution 119: A, C, E, D, B\n",
            "Solution 120: B, C, E, A, D\n"
          ]
        }
      ]
    },
    {
      "cell_type": "code",
      "source": [
        "n_parent=int(input(\"Enter no. of parents\"))\n",
        "parents = random.sample(all_solutions, n_parent)\n",
        "\n",
        "print(\"Selected Parents:\")\n",
        "for i, parent in enumerate(parents, start=1):\n",
        "    print(f\"Parent {i}: {', '.join(parent)}\")"
      ],
      "metadata": {
        "colab": {
          "base_uri": "https://localhost:8080/"
        },
        "id": "Y8hGqFB47O55",
        "outputId": "2f90f4b7-3c71-4d2f-9200-51add57a692c"
      },
      "execution_count": null,
      "outputs": [
        {
          "output_type": "stream",
          "name": "stdout",
          "text": [
            "Enter no. of parents4\n",
            "Selected Parents:\n",
            "Parent 1: C, A, D, E, B\n",
            "Parent 2: E, D, B, C, A\n",
            "Parent 3: E, D, A, C, B\n",
            "Parent 4: C, A, B, D, E\n"
          ]
        }
      ]
    },
    {
      "cell_type": "code",
      "source": [
        "def fitness(solution, city_matrix):\n",
        "    total_cost = 0\n",
        "    for i in range(len(solution) - 1):\n",
        "        from_city = cities.index(solution[i])\n",
        "        to_city = cities.index(solution[i + 1])\n",
        "        total_cost += city_matrix[from_city][to_city]\n",
        "    from_city = cities.index(solution[-1])\n",
        "    to_city = cities.index(solution[0])\n",
        "    total_cost += city_matrix[from_city][to_city]\n",
        "    return total_cost\n",
        "\n",
        "print(\"Population\")\n",
        "for i, solution in enumerate(all_solutions, start=1):\n",
        "    cost = fitness(solution, city)\n",
        "    print(f\"Solution {i}: {', '.join(solution)} - Total Cost: {cost}\")\n",
        "\n",
        "print(\"\\nRandomly selected Parents\")\n",
        "for i, solution in enumerate(parents, start=1):\n",
        "    cost = fitness(solution, city)\n",
        "    print(f\"Solution {i}: {', '.join(solution)} - Total Cost: {cost}\")"
      ],
      "metadata": {
        "colab": {
          "base_uri": "https://localhost:8080/"
        },
        "id": "Vvz6Vo1Cu3ya",
        "outputId": "4ddf8ee7-6b2c-43e8-be11-295211ce8389"
      },
      "execution_count": null,
      "outputs": [
        {
          "output_type": "stream",
          "name": "stdout",
          "text": [
            "Population\n",
            "Solution 1: B, D, C, A, E - Total Cost: 180\n",
            "Solution 2: A, C, B, D, E - Total Cost: 185\n",
            "Solution 3: B, C, E, D, A - Total Cost: 195\n",
            "Solution 4: B, A, D, E, C - Total Cost: 195\n",
            "Solution 5: C, D, B, E, A - Total Cost: 180\n",
            "Solution 6: D, A, C, E, B - Total Cost: 180\n",
            "Solution 7: D, C, A, E, B - Total Cost: 180\n",
            "Solution 8: E, B, A, D, C - Total Cost: 190\n",
            "Solution 9: D, E, A, B, C - Total Cost: 195\n",
            "Solution 10: D, C, B, A, E - Total Cost: 195\n",
            "Solution 11: A, D, E, B, C - Total Cost: 185\n",
            "Solution 12: B, E, D, C, A - Total Cost: 195\n",
            "Solution 13: B, D, E, C, A - Total Cost: 195\n",
            "Solution 14: A, E, C, D, B - Total Cost: 190\n",
            "Solution 15: C, D, B, A, E - Total Cost: 190\n",
            "Solution 16: E, A, D, C, B - Total Cost: 180\n",
            "Solution 17: C, E, B, A, D - Total Cost: 190\n",
            "Solution 18: B, A, D, C, E - Total Cost: 190\n",
            "Solution 19: C, D, E, A, B - Total Cost: 195\n",
            "Solution 20: E, B, D, C, A - Total Cost: 180\n",
            "Solution 21: C, A, E, D, B - Total Cost: 185\n",
            "Solution 22: D, B, A, E, C - Total Cost: 190\n",
            "Solution 23: A, E, D, B, C - Total Cost: 185\n",
            "Solution 24: E, B, A, C, D - Total Cost: 195\n",
            "Solution 25: D, A, C, B, E - Total Cost: 185\n",
            "Solution 26: C, E, A, B, D - Total Cost: 190\n",
            "Solution 27: B, E, A, D, C - Total Cost: 180\n",
            "Solution 28: B, D, A, C, E - Total Cost: 180\n",
            "Solution 29: E, A, C, D, B - Total Cost: 180\n",
            "Solution 30: D, E, B, C, A - Total Cost: 185\n",
            "Solution 31: C, B, D, E, A - Total Cost: 185\n",
            "Solution 32: E, B, D, A, C - Total Cost: 180\n",
            "Solution 33: D, A, E, C, B - Total Cost: 180\n",
            "Solution 34: D, A, E, B, C - Total Cost: 180\n",
            "Solution 35: E, C, B, D, A - Total Cost: 180\n",
            "Solution 36: E, C, D, A, B - Total Cost: 190\n",
            "Solution 37: E, D, A, B, C - Total Cost: 195\n",
            "Solution 38: B, D, C, E, A - Total Cost: 190\n",
            "Solution 39: C, D, A, B, E - Total Cost: 190\n",
            "Solution 40: E, B, C, D, A - Total Cost: 180\n",
            "Solution 41: A, B, E, D, C - Total Cost: 195\n",
            "Solution 42: B, A, E, C, D - Total Cost: 190\n",
            "Solution 43: C, A, D, E, B - Total Cost: 185\n",
            "Solution 44: D, E, C, B, A - Total Cost: 195\n",
            "Solution 45: A, C, D, E, B - Total Cost: 195\n",
            "Solution 46: E, D, A, C, B - Total Cost: 185\n",
            "Solution 47: C, B, A, D, E - Total Cost: 195\n",
            "Solution 48: C, B, E, D, A - Total Cost: 185\n",
            "Solution 49: D, B, E, A, C - Total Cost: 180\n",
            "Solution 50: A, E, B, D, C - Total Cost: 180\n",
            "Solution 51: C, E, D, A, B - Total Cost: 195\n",
            "Solution 52: D, B, C, A, E - Total Cost: 185\n",
            "Solution 53: C, D, A, E, B - Total Cost: 180\n",
            "Solution 54: E, D, B, C, A - Total Cost: 185\n",
            "Solution 55: B, E, D, A, C - Total Cost: 185\n",
            "Solution 56: D, E, A, C, B - Total Cost: 185\n",
            "Solution 57: E, C, B, A, D - Total Cost: 195\n",
            "Solution 58: E, A, C, B, D - Total Cost: 185\n",
            "Solution 59: A, D, B, C, E - Total Cost: 180\n",
            "Solution 60: A, E, C, B, D - Total Cost: 180\n",
            "Solution 61: D, A, B, C, E - Total Cost: 195\n",
            "Solution 62: E, A, D, B, C - Total Cost: 180\n",
            "Solution 63: B, A, C, D, E - Total Cost: 195\n",
            "Solution 64: E, A, B, D, C - Total Cost: 190\n",
            "Solution 65: B, E, C, D, A - Total Cost: 190\n",
            "Solution 66: A, B, C, D, E - Total Cost: 195\n",
            "Solution 67: D, B, E, C, A - Total Cost: 180\n",
            "Solution 68: D, C, E, A, B - Total Cost: 190\n",
            "Solution 69: E, B, C, A, D - Total Cost: 185\n",
            "Solution 70: B, C, A, D, E - Total Cost: 185\n",
            "Solution 71: E, D, B, A, C - Total Cost: 195\n",
            "Solution 72: A, B, D, C, E - Total Cost: 190\n",
            "Solution 73: D, C, E, B, A - Total Cost: 190\n",
            "Solution 74: C, E, B, D, A - Total Cost: 180\n",
            "Solution 75: C, A, B, E, D - Total Cost: 195\n",
            "Solution 76: D, A, B, E, C - Total Cost: 190\n",
            "Solution 77: B, A, E, D, C - Total Cost: 195\n",
            "Solution 78: B, E, A, C, D - Total Cost: 180\n",
            "Solution 79: B, C, D, A, E - Total Cost: 180\n",
            "Solution 80: A, B, C, E, D - Total Cost: 195\n",
            "Solution 81: D, C, A, B, E - Total Cost: 195\n",
            "Solution 82: D, E, C, A, B - Total Cost: 195\n",
            "Solution 83: B, E, C, A, D - Total Cost: 180\n",
            "Solution 84: A, C, E, B, D - Total Cost: 180\n",
            "Solution 85: D, B, C, E, A - Total Cost: 180\n",
            "Solution 86: A, E, D, C, B - Total Cost: 195\n",
            "Solution 87: D, E, B, A, C - Total Cost: 195\n",
            "Solution 88: E, C, A, D, B - Total Cost: 180\n",
            "Solution 89: B, A, C, E, D - Total Cost: 195\n",
            "Solution 90: B, D, A, E, C - Total Cost: 180\n",
            "Solution 91: C, B, A, E, D - Total Cost: 195\n",
            "Solution 92: E, C, D, B, A - Total Cost: 190\n",
            "Solution 93: C, E, D, B, A - Total Cost: 195\n",
            "Solution 94: C, A, B, D, E - Total Cost: 195\n",
            "Solution 95: C, B, E, A, D - Total Cost: 180\n",
            "Solution 96: B, C, D, E, A - Total Cost: 195\n",
            "Solution 97: A, B, E, C, D - Total Cost: 190\n",
            "Solution 98: A, B, D, E, C - Total Cost: 195\n",
            "Solution 99: E, C, A, B, D - Total Cost: 195\n",
            "Solution 100: A, D, C, B, E - Total Cost: 180\n",
            "Solution 101: C, E, A, D, B - Total Cost: 180\n",
            "Solution 102: A, E, B, C, D - Total Cost: 180\n",
            "Solution 103: C, D, E, B, A - Total Cost: 195\n",
            "Solution 104: C, A, D, B, E - Total Cost: 180\n",
            "Solution 105: A, D, B, E, C - Total Cost: 180\n",
            "Solution 106: A, D, C, E, B - Total Cost: 190\n",
            "Solution 107: B, C, A, E, D - Total Cost: 185\n",
            "Solution 108: E, A, B, C, D - Total Cost: 195\n",
            "Solution 109: A, C, D, B, E - Total Cost: 180\n",
            "Solution 110: A, C, B, E, D - Total Cost: 185\n",
            "Solution 111: A, D, E, C, B - Total Cost: 195\n",
            "Solution 112: C, B, D, A, E - Total Cost: 180\n",
            "Solution 113: B, D, E, A, C - Total Cost: 185\n",
            "Solution 114: D, C, B, E, A - Total Cost: 180\n",
            "Solution 115: D, B, A, C, E - Total Cost: 195\n",
            "Solution 116: C, A, E, B, D - Total Cost: 180\n",
            "Solution 117: E, D, C, A, B - Total Cost: 195\n",
            "Solution 118: E, D, C, B, A - Total Cost: 195\n",
            "Solution 119: A, C, E, D, B - Total Cost: 195\n",
            "Solution 120: B, C, E, A, D - Total Cost: 180\n",
            "\n",
            "Randomly selected Parents\n",
            "Solution 1: C, A, D, E, B - Total Cost: 185\n",
            "Solution 2: E, D, B, C, A - Total Cost: 185\n",
            "Solution 3: E, D, A, C, B - Total Cost: 185\n",
            "Solution 4: C, A, B, D, E - Total Cost: 195\n"
          ]
        }
      ]
    },
    {
      "cell_type": "code",
      "source": [
        "import itertools\n",
        "import random\n",
        "\n",
        "def roulette_wheel_selection(solutions, fitness_values):\n",
        "    total_fitness = sum(fitness_values)\n",
        "    spin = random.uniform(0, total_fitness)\n",
        "    current_sum = 0\n",
        "    for i, fitness in enumerate(fitness_values):\n",
        "        current_sum += fitness\n",
        "        if current_sum >= spin:\n",
        "            return solutions[i]\n",
        "\n",
        "fitness_values = [fitness(solution, city) for solution in parents]\n",
        "\n",
        "selected_solutions = []\n",
        "num_parents = 2\n",
        "\n",
        "for _ in range(num_parents):\n",
        "    selected = roulette_wheel_selection(parents, fitness_values)\n",
        "    selected_solutions.append(selected)\n",
        "\n",
        "print(\"Parents Selected:\")\n",
        "for i, solution in enumerate(parents, start=1):\n",
        "    cost = fitness(solution, city)\n",
        "    print(f\"Solution {i}: {', '.join(solution)} - Total Cost: {cost}\")"
      ],
      "metadata": {
        "colab": {
          "base_uri": "https://localhost:8080/"
        },
        "id": "rja7GKPYopym",
        "outputId": "7ec4b2d1-bbf5-45a7-f753-66184d098c53"
      },
      "execution_count": null,
      "outputs": [
        {
          "output_type": "stream",
          "name": "stdout",
          "text": [
            "Parents Selected:\n",
            "Solution 1: C, A, D, E, B - Total Cost: 185\n",
            "Solution 2: E, D, B, C, A - Total Cost: 185\n",
            "Solution 3: E, D, A, C, B - Total Cost: 185\n",
            "Solution 4: C, A, B, D, E - Total Cost: 195\n"
          ]
        }
      ]
    },
    {
      "cell_type": "code",
      "source": [
        "def cycle_crossover(parent1, parent2):\n",
        "    n = len(parent1)\n",
        "    cycle = [False] * n\n",
        "    child = [-1] * n\n",
        "\n",
        "    while -1 in child:\n",
        "        index = child.index(-1)\n",
        "        while not cycle[index]:\n",
        "            cycle[index] = True\n",
        "            child[index] = parent1[index]\n",
        "            index = parent2.index(parent1[index])\n",
        "        for i in range(n):\n",
        "            if not cycle[i]:\n",
        "                child[i] = parent2[i]\n",
        "\n",
        "        cycle = [False] * n\n",
        "\n",
        "    return child\n",
        "\n",
        "children =[]\n",
        "\n",
        "j=1\n",
        "for i in range(len(parents)):\n",
        "  for j in range(len(parents)):\n",
        "    children=cycle_crossover(parents[i], parents[j])\n"
      ],
      "metadata": {
        "id": "1BTIriEp_oeC",
        "colab": {
          "base_uri": "https://localhost:8080/"
        },
        "outputId": "21414a52-9ea0-4b8b-bf7b-5ef746dae993"
      },
      "execution_count": null,
      "outputs": [
        {
          "output_type": "stream",
          "name": "stdout",
          "text": [
            "Children Produced:\n",
            "Child 1: E, D, B, C, A\n",
            "Child 2: C, A, B, D, E\n"
          ]
        }
      ]
    },
    {
      "cell_type": "code",
      "source": [
        "def cyclic_crossover(parent1, parent2):\n",
        "    n = len(parent1)\n",
        "    cycle_start = random.randint(0, n - 1)\n",
        "    child = [-1] * n\n",
        "    while True:\n",
        "        if child[cycle_start] == -1:\n",
        "            child[cycle_start] = parent1[cycle_start]\n",
        "            cycle_start = parent2.index(parent1[cycle_start])\n",
        "        else:\n",
        "            break\n",
        "    for i in range(n):\n",
        "        if child[i] == -1:\n",
        "            child[i] = parent2[i]\n",
        "    return child"
      ],
      "metadata": {
        "colab": {
          "base_uri": "https://localhost:8080/"
        },
        "id": "L99cSwN0CrdY",
        "outputId": "209eb3ec-db97-4cfe-ca2f-adfb70295a72"
      },
      "execution_count": null,
      "outputs": [
        {
          "output_type": "stream",
          "name": "stdout",
          "text": [
            "Parents Selected:\n",
            "Solution 1: C - Total Cost: 0\n",
            "Solution 2: A - Total Cost: 0\n",
            "Solution 3: B - Total Cost: 0\n",
            "Solution 4: D - Total Cost: 0\n",
            "Solution 5: E - Total Cost: 0\n"
          ]
        }
      ]
    },
    {
      "cell_type": "code",
      "source": [],
      "metadata": {
        "id": "s29rhp2FEmHE"
      },
      "execution_count": null,
      "outputs": []
    }
  ]
}