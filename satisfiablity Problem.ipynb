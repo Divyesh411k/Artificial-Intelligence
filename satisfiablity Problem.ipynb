{
  "nbformat": 4,
  "nbformat_minor": 0,
  "metadata": {
    "colab": {
      "provenance": []
    },
    "kernelspec": {
      "name": "python3",
      "display_name": "Python 3"
    },
    "language_info": {
      "name": "python"
    }
  },
  "cells": [
    {
      "cell_type": "code",
      "execution_count": null,
      "metadata": {
        "id": "YF7WX5-8ZokW"
      },
      "outputs": [],
      "source": [
        "import random\n",
        "\n",
        "def satf1(A, B, C, D, E):\n",
        "    clause1 = (A or not B)\n",
        "    clause2 = (B or not C)\n",
        "    clause3 = (not B)\n",
        "    clause4 = (not C or E)\n",
        "    clause5 = (A or C)\n",
        "    clause6 = (not C or not D)\n",
        "\n",
        "    return clause1 and clause2 and clause3 and clause4 and clause5 and clause6"
      ]
    },
    {
      "cell_type": "code",
      "source": [
        "def objective_function(A, B, C, D, E):\n",
        "    return sum([not satf1(A, B, C, D, E)])\n",
        "\n",
        "def random_initial_state():\n",
        "    return {var: random.choice([True, False]) for var in ['A', 'B', 'C', 'D', 'E']}"
      ],
      "metadata": {
        "id": "bvoB5XH7Zy-Q"
      },
      "execution_count": null,
      "outputs": []
    },
    {
      "cell_type": "code",
      "source": [
        "def local_search(state):\n",
        "    while True:\n",
        "        neighbors = neighborhood_structure(state)\n",
        "        best_neighbor = min(neighbors, key=lambda s: objective_function(**s))\n",
        "        if objective_function(**best_neighbor) >= objective_function(**state):\n",
        "            break\n",
        "        state = best_neighbor\n",
        "    return state"
      ],
      "metadata": {
        "id": "5ZKocKmqZ8aE"
      },
      "execution_count": null,
      "outputs": []
    },
    {
      "cell_type": "code",
      "source": [
        "def neighborhood_structure(state):\n",
        "    neighbors = []\n",
        "    for var, value in state.items():\n",
        "        neighbor = state.copy()\n",
        "        neighbor[var] = not value\n",
        "        neighbors.append(neighbor)\n",
        "    return neighbors"
      ],
      "metadata": {
        "id": "3l0zz70iZ_OT"
      },
      "execution_count": null,
      "outputs": []
    },
    {
      "cell_type": "code",
      "source": [
        "num_iterations = 80\n",
        "best_state = None\n",
        "best_cost = float('inf')\n",
        "for _ in range(num_iterations):\n",
        "    current_state = random_initial_state()\n",
        "    current_state = local_search(current_state)\n",
        "    current_cost = objective_function(**current_state)\n",
        "    if current_cost < best_cost:\n",
        "        best_state = current_state\n",
        "        best_cost = current_cost\n",
        "\n",
        "print(\"Final Assignment after\", num_iterations, \"Iterations:\")\n",
        "print(best_state)\n",
        "print(\"Number of Unsatisfied Clauses:\", objective_function(**best_state))\n"
      ],
      "metadata": {
        "colab": {
          "base_uri": "https://localhost:8080/"
        },
        "id": "XdtpE9j-Zsjs",
        "outputId": "112cfe97-0319-43aa-8c5b-9132ede9f322"
      },
      "execution_count": null,
      "outputs": [
        {
          "output_type": "stream",
          "name": "stdout",
          "text": [
            "Final Assignment after 80 Iterations:\n",
            "{'A': True, 'B': False, 'C': False, 'D': True, 'E': True}\n",
            "Number of Unsatisfied Clauses: 0\n"
          ]
        }
      ]
    },
    {
      "cell_type": "code",
      "source": [
        "def satf2(A, B, C, D, E):\n",
        "    clause1 = (A or B)\n",
        "    clause2 = (A or not C)\n",
        "    clause3 = (B or D)\n",
        "    clause4 = (A or not E)\n",
        "\n",
        "    return clause1 and clause2 and clause3 and clause4"
      ],
      "metadata": {
        "id": "y6qYuxHnZuMx"
      },
      "execution_count": null,
      "outputs": []
    },
    {
      "cell_type": "code",
      "source": [
        "def objective_function(A, B, C, D, E):\n",
        "    return sum([not satf2(A, B, C, D, E)])\n",
        "\n",
        "def random_initial_state():\n",
        "    return {var: random.choice([True, False]) for var in ['A', 'B', 'C', 'D', 'E']}"
      ],
      "metadata": {
        "id": "cPsA89X5afMM"
      },
      "execution_count": null,
      "outputs": []
    },
    {
      "cell_type": "code",
      "source": [
        "def local_search(state):\n",
        "    while True:\n",
        "        neighbors = neighborhood_structure(state)\n",
        "        best_neighbor = min(neighbors, key=lambda s: objective_function(**s))\n",
        "        if objective_function(**best_neighbor) >= objective_function(**state):\n",
        "            break\n",
        "        state = best_neighbor\n",
        "    return state"
      ],
      "metadata": {
        "id": "_BzqJs1jaoHX"
      },
      "execution_count": null,
      "outputs": []
    },
    {
      "cell_type": "code",
      "source": [
        "def neighborhood_structure(state):\n",
        "    neighbors = []\n",
        "    for var, value in state.items():\n",
        "        neighbor = state.copy()\n",
        "        neighbor[var] = not value\n",
        "        neighbors.append(neighbor)\n",
        "    return neighbors"
      ],
      "metadata": {
        "id": "mmwesDhTaoHX"
      },
      "execution_count": null,
      "outputs": []
    },
    {
      "cell_type": "code",
      "source": [
        "num_iterations = 17\n",
        "best_state = None\n",
        "best_cost = float('inf')\n",
        "for _ in range(num_iterations):\n",
        "    current_state = random_initial_state()\n",
        "    current_state = local_search(current_state)\n",
        "    current_cost = objective_function(**current_state)\n",
        "    if current_cost < best_cost:\n",
        "        best_state = current_state\n",
        "        best_cost = current_cost\n",
        "\n",
        "print(\"Final Assignment after\", num_iterations, \"Iterations:\")\n",
        "print(best_state)\n",
        "print(\"Number of Unsatisfied Clauses:\", objective_function(**best_state))\n"
      ],
      "metadata": {
        "colab": {
          "base_uri": "https://localhost:8080/"
        },
        "outputId": "b8466d4b-04af-442e-a813-b4fbf3a45e45",
        "id": "8-t6DrruaoHY"
      },
      "execution_count": null,
      "outputs": [
        {
          "output_type": "stream",
          "name": "stdout",
          "text": [
            "Final Assignment after 17 Iterations:\n",
            "{'A': True, 'B': False, 'C': True, 'D': True, 'E': True}\n",
            "Number of Unsatisfied Clauses: 0\n"
          ]
        }
      ]
    },
    {
      "cell_type": "code",
      "source": [],
      "metadata": {
        "id": "_etTIO0DapRo"
      },
      "execution_count": null,
      "outputs": []
    }
  ]
}