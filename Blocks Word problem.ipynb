{
  "nbformat": 4,
  "nbformat_minor": 0,
  "metadata": {
    "colab": {
      "provenance": []
    },
    "kernelspec": {
      "name": "python3",
      "display_name": "Python 3"
    },
    "language_info": {
      "name": "python"
    }
  },
  "cells": [
    {
      "cell_type": "code",
      "execution_count": null,
      "metadata": {
        "id": "3eXIF5whf3rt"
      },
      "outputs": [],
      "source": [
        "#movegen in 3 list\n",
        "#heuristic\n",
        "#best first\n",
        "#hill climb"
      ]
    },
    {
      "cell_type": "code",
      "source": [
        "def goaltest(g1,g2,moves):\n",
        "  if g1==l1 and g2==l2:\n",
        "    print(\"goal\")"
      ],
      "metadata": {
        "id": "ZtEuQA0wlfS2"
      },
      "execution_count": null,
      "outputs": []
    },
    {
      "cell_type": "code",
      "source": [
        "l1=[]\n",
        "l2=[]\n",
        "table=[l1, l2]\n",
        "\n",
        "print(\"Enter the blocks from bottom to top\")\n",
        "\n",
        "n1 = int(input(\"Enter the number of blocks in l1: \"))\n",
        "for i in range(n1):\n",
        "    l1.append(input())\n",
        "\n",
        "n2 = int(input(\"Enter the number of blocks in l2: \"))\n",
        "for i in range(n2):\n",
        "    l2.append(input())\n",
        "\n",
        "print(\"Table: \", table, \"\\n\")"
      ],
      "metadata": {
        "colab": {
          "base_uri": "https://localhost:8080/"
        },
        "id": "JZmBC_EIl-w4",
        "outputId": "f91ad9f8-bb0b-416b-97ed-59a0f3beef8a"
      },
      "execution_count": null,
      "outputs": [
        {
          "output_type": "stream",
          "name": "stdout",
          "text": [
            "Enter the blocks from bottom to top\n",
            "Enter the number of blocks in l1: 4\n",
            "D\n",
            "C\n",
            "B\n",
            "A\n",
            "Enter the number of blocks in l2: 2\n",
            "F\n",
            "E\n",
            "Table:  [['D', 'C', 'B', 'A'], ['F', 'E']] \n",
            "\n"
          ]
        }
      ]
    },
    {
      "cell_type": "code",
      "source": [
        "print(\"Enter the goal test's blocks from bottom to top\")\n",
        "g1 = []\n",
        "g2 = []\n",
        "\n",
        "n3 = int(input(\"Enter the number of blocks in l1: \"))\n",
        "for i in range(n3):\n",
        "    g1.append(input())\n",
        "\n",
        "n4 = int(input(\"Enter the number of blocks in l1: \"))\n",
        "for i in range(n4):\n",
        "    g2.append(input(f\"\"))\n",
        "goal_table=[g1,g2]"
      ],
      "metadata": {
        "colab": {
          "base_uri": "https://localhost:8080/"
        },
        "id": "IrxtUQhVvAtD",
        "outputId": "0cbc616a-086f-4c6f-d218-6ddad67222e4"
      },
      "execution_count": null,
      "outputs": [
        {
          "name": "stdout",
          "output_type": "stream",
          "text": [
            "Enter the goal test's blocks from bottom to top\n",
            "Enter the number of blocks in l1: 5\n",
            "D\n",
            "C\n",
            "B\n",
            "E\n",
            "A\n",
            "Enter the number of blocks in l1: 1\n",
            "F\n"
          ]
        }
      ]
    },
    {
      "cell_type": "code",
      "source": [
        "goal_table"
      ],
      "metadata": {
        "colab": {
          "base_uri": "https://localhost:8080/"
        },
        "id": "kKD6G-7jzgN1",
        "outputId": "5d496262-4b4a-4ec3-d0de-de2acc1719f7"
      },
      "execution_count": null,
      "outputs": [
        {
          "output_type": "execute_result",
          "data": {
            "text/plain": [
              "[['D', 'C', 'B', 'E', 'A'], ['F']]"
            ]
          },
          "metadata": {},
          "execution_count": 14
        }
      ]
    },
    {
      "cell_type": "code",
      "source": [
        "def h1(l1, l2, table):\n",
        "    score = 0\n",
        "    for stack in table:\n",
        "        for i in range(1, len(stack)):\n",
        "            if stack[i - 1] == stack[i]:\n",
        "                score += 1\n",
        "            else:\n",
        "                score -= 1\n",
        "    return score\n",
        "\n",
        "print(h1(l1,l2,table))\n"
      ],
      "metadata": {
        "colab": {
          "base_uri": "https://localhost:8080/"
        },
        "id": "YPgT2wiqqnEh",
        "outputId": "f2eb2f72-d306-4912-ade1-0e250e12501b"
      },
      "execution_count": null,
      "outputs": [
        {
          "output_type": "stream",
          "name": "stdout",
          "text": [
            "-4\n"
          ]
        }
      ]
    },
    {
      "cell_type": "code",
      "source": [
        "def h2(current_state, goal_state):\n",
        "    score = 0\n",
        "    for i in range(min(len(current_state), len(goal_state))):\n",
        "        if current_state[i] == goal_state[i]:\n",
        "            score += 1\n",
        "        else:\n",
        "            score -= 1\n",
        "    return score"
      ],
      "metadata": {
        "id": "o1xU2XAE0k5R"
      },
      "execution_count": null,
      "outputs": []
    },
    {
      "cell_type": "code",
      "source": [
        "def movegen(i1, i2, table):\n",
        "    moves = []\n",
        "    if i1:\n",
        "        block = i1[-1]\n",
        "        new_i1 = i1[:-1]\n",
        "        new_i2 = i2 + [block]\n",
        "        moves.append((new_i1, new_i2, f\"Move {block} from i1 to i2\"))\n",
        "\n",
        "    if i2:\n",
        "        block = i2[-1]\n",
        "        new_i1 = i1 + [block]\n",
        "        new_i2 = i2[:-1]\n",
        "        moves.append((new_i1, new_i2, f\"Move {block} from i2 to i1\"))\n",
        "\n",
        "    if i1:\n",
        "        block = i1[-1]\n",
        "        new_i1 = i1[:-1]\n",
        "        moves.append((new_i1, i2, block ,f\"Place {block} from i1 onto the table\"))\n",
        "\n",
        "    if i2:\n",
        "        block = i2[-1]\n",
        "        new_i2 = i2[:-1]\n",
        "        new_table = table + [block]\n",
        "        moves.append((i1, new_i2, block, f\"Place {block} from i2 onto the table\"))\n",
        "\n",
        "    return moves\n",
        "\n",
        "possible_moves = movegen(l1, l2, table)\n",
        "j=1\n",
        "for i in possible_moves:\n",
        "    new_table = []\n",
        "    print(f' move', j)\n",
        "    print(i)\n",
        "    new_table += list(i[:-1])\n",
        "    print(new_table)\n",
        "    print(\"Cost of h1: \")\n",
        "    print(h1(l1,l2,new_table))\n",
        "    print(\"Cost of h2: \")\n",
        "    print(h2(new_table, goal_table),\"\\n\")\n",
        "    j += 1"
      ],
      "metadata": {
        "colab": {
          "base_uri": "https://localhost:8080/"
        },
        "id": "QUCBu8zooXOm",
        "outputId": "1f623158-0f7e-4c46-b3b9-ff657e1b8588"
      },
      "execution_count": null,
      "outputs": [
        {
          "output_type": "stream",
          "name": "stdout",
          "text": [
            " move 1\n",
            "(['D', 'C', 'B'], ['F', 'E', 'A'], 'Move A from i1 to i2')\n",
            "[['D', 'C', 'B'], ['F', 'E', 'A']]\n",
            "Cost of h1: \n",
            "-4\n",
            "Cost of h2: \n",
            "-2 \n",
            "\n",
            " move 2\n",
            "(['D', 'C', 'B', 'A', 'E'], ['F'], 'Move E from i2 to i1')\n",
            "[['D', 'C', 'B', 'A', 'E'], ['F']]\n",
            "Cost of h1: \n",
            "-4\n",
            "Cost of h2: \n",
            "0 \n",
            "\n",
            " move 3\n",
            "(['D', 'C', 'B'], ['F', 'E'], 'A', 'Place A from i1 onto the table')\n",
            "[['D', 'C', 'B'], ['F', 'E'], 'A']\n",
            "Cost of h1: \n",
            "-3\n",
            "Cost of h2: \n",
            "-2 \n",
            "\n",
            " move 4\n",
            "(['D', 'C', 'B', 'A'], ['F'], 'E', 'Place E from i2 onto the table')\n",
            "[['D', 'C', 'B', 'A'], ['F'], 'E']\n",
            "Cost of h1: \n",
            "-3\n",
            "Cost of h2: \n",
            "0 \n",
            "\n"
          ]
        }
      ]
    },
    {
      "cell_type": "code",
      "source": [
        "def movegen(i1, i2, table):\n",
        "    moves = []\n",
        "    if i1:\n",
        "        block = i1[-1]\n",
        "        new_i1 = i1[:-1]\n",
        "        new_i2 = i2 + [block]\n",
        "        moves.append((new_i1, new_i2))\n",
        "\n",
        "    if i2:\n",
        "        block = i2[-1]\n",
        "        new_i1 = i1 + [block]\n",
        "        new_i2 = i2[:-1]\n",
        "        moves.append((new_i1, new_i2))\n",
        "\n",
        "    if i1:\n",
        "        block = i1[-1]\n",
        "        new_i1 = i1[:-1]\n",
        "        moves.append((new_i1, i2, block))\n",
        "\n",
        "    if i2:\n",
        "        block = i2[-1]\n",
        "        new_i2 = i2[:-1]\n",
        "        new_table = table + [block]\n",
        "        moves.append((i1, new_i2, block))\n",
        "\n",
        "    return moves\n",
        "\n",
        "def generate_neighbors(state):\n",
        "  neighbors = []\n",
        "  for i in range(len(state)):\n",
        "    for j in range(len(state[i])):\n",
        "     if state[i][j] != ' ':\n",
        "      for k in range(len(state)):\n",
        "        if i != k:\n",
        "          neighbor_state = [list(row) for row in state]\n",
        "          block = neighbor_state[i].pop(j)\n",
        "          neighbor_state[k].append(block)\n",
        "          neighbors.append(neighbor_state)\n",
        "    print(neighbors)\n",
        "\n",
        "  return neighbors\n",
        "possible_moves=movegen(l1,l2,table)\n",
        "for i in possible_moves:\n",
        "  generate_neighbors(i)"
      ],
      "metadata": {
        "id": "KjEch1Wq4CBV",
        "colab": {
          "base_uri": "https://localhost:8080/"
        },
        "outputId": "7ce1d72b-83f9-4214-cf7e-ad758610d55a"
      },
      "execution_count": null,
      "outputs": [
        {
          "output_type": "stream",
          "name": "stdout",
          "text": [
            "[[['C', 'B'], ['F', 'E', 'A', 'D']], [['D', 'B'], ['F', 'E', 'A', 'C']], [['D', 'C'], ['F', 'E', 'A', 'B']]]\n",
            "[[['C', 'B'], ['F', 'E', 'A', 'D']], [['D', 'B'], ['F', 'E', 'A', 'C']], [['D', 'C'], ['F', 'E', 'A', 'B']], [['D', 'C', 'B', 'F'], ['E', 'A']], [['D', 'C', 'B', 'E'], ['F', 'A']], [['D', 'C', 'B', 'A'], ['F', 'E']]]\n",
            "[[['C', 'B', 'A', 'E'], ['F', 'D']], [['D', 'B', 'A', 'E'], ['F', 'C']], [['D', 'C', 'A', 'E'], ['F', 'B']], [['D', 'C', 'B', 'E'], ['F', 'A']], [['D', 'C', 'B', 'A'], ['F', 'E']]]\n",
            "[[['C', 'B', 'A', 'E'], ['F', 'D']], [['D', 'B', 'A', 'E'], ['F', 'C']], [['D', 'C', 'A', 'E'], ['F', 'B']], [['D', 'C', 'B', 'E'], ['F', 'A']], [['D', 'C', 'B', 'A'], ['F', 'E']], [['D', 'C', 'B', 'A', 'E', 'F'], []]]\n",
            "[[['C', 'B'], ['F', 'E', 'D'], ['A']], [['C', 'B'], ['F', 'E'], ['A', 'D']], [['D', 'B'], ['F', 'E', 'C'], ['A']], [['D', 'B'], ['F', 'E'], ['A', 'C']], [['D', 'C'], ['F', 'E', 'B'], ['A']], [['D', 'C'], ['F', 'E'], ['A', 'B']]]\n",
            "[[['C', 'B'], ['F', 'E', 'D'], ['A']], [['C', 'B'], ['F', 'E'], ['A', 'D']], [['D', 'B'], ['F', 'E', 'C'], ['A']], [['D', 'B'], ['F', 'E'], ['A', 'C']], [['D', 'C'], ['F', 'E', 'B'], ['A']], [['D', 'C'], ['F', 'E'], ['A', 'B']], [['D', 'C', 'B', 'F'], ['E'], ['A']], [['D', 'C', 'B'], ['E'], ['A', 'F']], [['D', 'C', 'B', 'E'], ['F'], ['A']], [['D', 'C', 'B'], ['F'], ['A', 'E']]]\n",
            "[[['C', 'B'], ['F', 'E', 'D'], ['A']], [['C', 'B'], ['F', 'E'], ['A', 'D']], [['D', 'B'], ['F', 'E', 'C'], ['A']], [['D', 'B'], ['F', 'E'], ['A', 'C']], [['D', 'C'], ['F', 'E', 'B'], ['A']], [['D', 'C'], ['F', 'E'], ['A', 'B']], [['D', 'C', 'B', 'F'], ['E'], ['A']], [['D', 'C', 'B'], ['E'], ['A', 'F']], [['D', 'C', 'B', 'E'], ['F'], ['A']], [['D', 'C', 'B'], ['F'], ['A', 'E']], [['D', 'C', 'B', 'A'], ['F', 'E'], []], [['D', 'C', 'B'], ['F', 'E', 'A'], []]]\n",
            "[[['C', 'B', 'A'], ['F', 'D'], ['E']], [['C', 'B', 'A'], ['F'], ['E', 'D']], [['D', 'B', 'A'], ['F', 'C'], ['E']], [['D', 'B', 'A'], ['F'], ['E', 'C']], [['D', 'C', 'A'], ['F', 'B'], ['E']], [['D', 'C', 'A'], ['F'], ['E', 'B']], [['D', 'C', 'B'], ['F', 'A'], ['E']], [['D', 'C', 'B'], ['F'], ['E', 'A']]]\n",
            "[[['C', 'B', 'A'], ['F', 'D'], ['E']], [['C', 'B', 'A'], ['F'], ['E', 'D']], [['D', 'B', 'A'], ['F', 'C'], ['E']], [['D', 'B', 'A'], ['F'], ['E', 'C']], [['D', 'C', 'A'], ['F', 'B'], ['E']], [['D', 'C', 'A'], ['F'], ['E', 'B']], [['D', 'C', 'B'], ['F', 'A'], ['E']], [['D', 'C', 'B'], ['F'], ['E', 'A']], [['D', 'C', 'B', 'A', 'F'], [], ['E']], [['D', 'C', 'B', 'A'], [], ['E', 'F']]]\n",
            "[[['C', 'B', 'A'], ['F', 'D'], ['E']], [['C', 'B', 'A'], ['F'], ['E', 'D']], [['D', 'B', 'A'], ['F', 'C'], ['E']], [['D', 'B', 'A'], ['F'], ['E', 'C']], [['D', 'C', 'A'], ['F', 'B'], ['E']], [['D', 'C', 'A'], ['F'], ['E', 'B']], [['D', 'C', 'B'], ['F', 'A'], ['E']], [['D', 'C', 'B'], ['F'], ['E', 'A']], [['D', 'C', 'B', 'A', 'F'], [], ['E']], [['D', 'C', 'B', 'A'], [], ['E', 'F']], [['D', 'C', 'B', 'A', 'E'], ['F'], []], [['D', 'C', 'B', 'A'], ['F', 'E'], []]]\n"
          ]
        }
      ]
    },
    {
      "cell_type": "code",
      "source": [
        "import heapq\n",
        "\n",
        "def best_first_search(initial_state, goal_state):\n",
        "  OPEN = [(initial_state, 0)]\n",
        "  CLOSED = set()\n",
        "  while OPEN:\n",
        "    current_state, cost = heapq.heappop(OPEN)\n",
        "    if current_state == goal_state:\n",
        "      return current_state\n",
        "      CLOSED.add(tuple(map(tuple, current_state)))\n",
        "      neighbors = generate_neighbors(current_state)\n",
        "      for neighbor in neighbors:\n",
        "       if tuple(map(tuple, neighbor)) not in CLOSED:\n",
        "         if neighbor not in (state for state, _ in OPEN):\n",
        "             heapq.heappush(OPEN, (neighbor, heuristic(neighbor,goal_state)))\n",
        "\n",
        "\n",
        "solutionbfs = best_first_search(table,goal_table)\n",
        "print(\"Solution:\", solutionbfs)"
      ],
      "metadata": {
        "colab": {
          "base_uri": "https://localhost:8080/"
        },
        "id": "f1gGQ-ld4XyP",
        "outputId": "8070d91f-0180-49ec-eeb0-d93b993d6cab"
      },
      "execution_count": null,
      "outputs": [
        {
          "output_type": "stream",
          "name": "stdout",
          "text": [
            "Solution: None\n"
          ]
        }
      ]
    },
    {
      "cell_type": "code",
      "source": [
        "def hill_climbing(initial_state, goal_state, h_func):\n",
        "    current_state = initial_state\n",
        "    current_score = h2(table, goal_table)\n",
        "    while True:\n",
        "        neighbors = movegen(*current_state)\n",
        "        best_neighbor = None\n",
        "        best_neighbor_score = current_score\n",
        "        for neighbor in neighbors:\n",
        "            neighbor_state, move_description = neighbor[:-1], neighbor[-1]\n",
        "            neighbor_score = h2(table, goal_table)\n",
        "\n",
        "            if neighbor_score > best_neighbor_score:\n",
        "                best_neighbor = neighbor_state\n",
        "                best_neighbor_score = neighbor_score\n",
        "                best_move_description = move_description\n",
        "        if best_neighbor_score <= current_score:\n",
        "            break\n",
        "        current_state = best_neighbor\n",
        "        current_score = best_neighbor_score\n",
        "        print(\"Move:\", best_move_description)\n",
        "        print(\"Current Table:\", current_state[2])\n",
        "    return current_state\n",
        "\n",
        "initial_state = (l1, l2, table)\n",
        "goal_state = (g1, g2, goal_table)\n",
        "\n",
        "chosen_heuristic = h2\n",
        "final_state = hill_climbing(initial_state, goal_state, chosen_heuristic)\n",
        "print(\"Final Table:\", final_state[2])\n"
      ],
      "metadata": {
        "colab": {
          "base_uri": "https://localhost:8080/"
        },
        "id": "SuBOk9f22XjV",
        "outputId": "d0cba063-28c2-44ae-9734-c669731da637"
      },
      "execution_count": null,
      "outputs": [
        {
          "output_type": "stream",
          "name": "stdout",
          "text": [
            "Final Table: [['D', 'C', 'B', 'A'], ['F', 'E']]\n"
          ]
        }
      ]
    },
    {
      "cell_type": "code",
      "source": [
        "import copy\n",
        "\n",
        "def movegen(i1, i2, table):\n",
        "    moves = []\n",
        "\n",
        "    if i1:\n",
        "        block = i1[-1]\n",
        "        new_i1 = i1[:-1]\n",
        "        new_i2 = i2 + [block]\n",
        "        moves.append((new_i1, new_i2, block))\n",
        "\n",
        "    if i2:\n",
        "        block = i2[-1]\n",
        "        new_i1 = i1 + [block]\n",
        "        new_i2 = i2[:-1]\n",
        "        moves.append((new_i1, new_i2, block))\n",
        "\n",
        "    if i1:\n",
        "        block = i1[-1]\n",
        "        new_i1 = i1[:-1]\n",
        "        moves.append((new_i1, i2, block))\n",
        "\n",
        "    if i2:\n",
        "        block = i2[-1]\n",
        "        new_i2 = i2[:-1]\n",
        "        new_table = table + [block]\n",
        "        moves.append((i1, new_i2, block))\n",
        "\n",
        "    return moves\n",
        "\n",
        "def generate_neighbors(state):\n",
        "    neighbors = []\n",
        "    for i in range(len(state)):\n",
        "        for j in range(len(state[i])):\n",
        "            if state[i][j] != ' ':\n",
        "                for k in range(len(state)):\n",
        "                    if i != k:\n",
        "                        neighbor_state = copy.deepcopy(state)\n",
        "                        block = neighbor_state[i].pop(j)\n",
        "                        neighbor_state[k].append(block)\n",
        "                        neighbors.append(neighbor_state)\n",
        "    return neighbors\n",
        "\n",
        "\n",
        "def hill_climbing(initial_state):\n",
        "    current_state = initial_state\n",
        "    current_score = h2(current_state,goal_table)\n",
        "\n",
        "    while True:\n",
        "        neighbors = generate_neighbors(current_state)\n",
        "        best_neighbor = None\n",
        "        best_neighbor_score = current_score\n",
        "\n",
        "        for neighbor in neighbors:\n",
        "            neighbor_score = h2(current_state,goal_table)\n",
        "            if neighbor_score > best_neighbor_score:\n",
        "                best_neighbor = neighbor\n",
        "                best_neighbor_score = neighbor_score\n",
        "\n",
        "        if best_neighbor_score <= current_score:\n",
        "            break\n",
        "\n",
        "        current_state = best_neighbor\n",
        "        current_score = best_neighbor_score\n",
        "\n",
        "    return current_state\n",
        "\n",
        "final_state = hill_climbing(goal_table)\n",
        "print(\"Final State:\", final_state)\n"
      ],
      "metadata": {
        "id": "1qvqRsSV8Oks",
        "colab": {
          "base_uri": "https://localhost:8080/"
        },
        "outputId": "cc538c37-b8ba-42c2-88cd-89f78ac28605"
      },
      "execution_count": null,
      "outputs": [
        {
          "output_type": "stream",
          "name": "stdout",
          "text": [
            "Final State: [['D', 'C', 'B', 'E', 'A'], ['F']]\n"
          ]
        }
      ]
    },
    {
      "cell_type": "code",
      "source": [],
      "metadata": {
        "id": "g9aceSSh3Zxn"
      },
      "execution_count": null,
      "outputs": []
    }
  ]
}