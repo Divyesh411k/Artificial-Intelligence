{
  "nbformat": 4,
  "nbformat_minor": 0,
  "metadata": {
    "colab": {
      "provenance": []
    },
    "kernelspec": {
      "name": "python3",
      "display_name": "Python 3"
    },
    "language_info": {
      "name": "python"
    }
  },
  "cells": [
    {
      "cell_type": "code",
      "source": [
        "board=[]\n",
        "for i in range(9):\n",
        "  board.append(input(\"Enter X ,O or . (for blank)\"))\n",
        "print(board)"
      ],
      "metadata": {
        "id": "XqzaZDI0kauS",
        "colab": {
          "base_uri": "https://localhost:8080/"
        },
        "outputId": "04524f03-ef3e-4cbd-e08c-ec0e6e0e6444"
      },
      "execution_count": null,
      "outputs": [
        {
          "output_type": "stream",
          "name": "stdout",
          "text": [
            "Enter X ,O or . (for blank)x\n",
            "Enter X ,O or . (for blank)o\n",
            "Enter X ,O or . (for blank)o\n",
            "Enter X ,O or . (for blank).\n",
            "Enter X ,O or . (for blank)o\n",
            "Enter X ,O or . (for blank).\n",
            "Enter X ,O or . (for blank).\n",
            "Enter X ,O or . (for blank)x\n",
            "Enter X ,O or . (for blank)x\n",
            "['x', 'o', 'o', '.', 'o', '.', '.', 'x', 'x']\n"
          ]
        }
      ]
    },
    {
      "cell_type": "code",
      "source": [
        "board=['x', 'o', 'o', '.', 'o', '.', '.', 'x', 'x']\n",
        "def print_board(board):\n",
        "    for i in range(0, 9, 3):\n",
        "        print(\" \".join(board[i:i+3]))\n",
        "print_board(board)"
      ],
      "metadata": {
        "colab": {
          "base_uri": "https://localhost:8080/"
        },
        "id": "mQw0-MB6hVYW",
        "outputId": "c02eea3b-0099-464d-972b-893c527449e4"
      },
      "execution_count": null,
      "outputs": [
        {
          "output_type": "stream",
          "name": "stdout",
          "text": [
            "x o o\n",
            ". o .\n",
            ". x x\n"
          ]
        }
      ]
    },
    {
      "cell_type": "code",
      "source": [
        "def evaluate(board):\n",
        "    winning_combinations = [(0, 1, 2), (3, 4, 5), (6, 7, 8),\n",
        "                            (0, 3, 6), (1, 4, 7), (2, 5, 8),\n",
        "                            (0, 4, 8), (2, 4, 6)]\n",
        "\n",
        "    for i, j, k in winning_combinations:\n",
        "        if board[i] == board[j] == board[k] == \"x\":\n",
        "            return 1\n",
        "        elif board[i] == board[j] == board[k] == \"o\":\n",
        "            return -1\n",
        "    return 0"
      ],
      "metadata": {
        "id": "FT_UhIpreBQr"
      },
      "execution_count": null,
      "outputs": []
    },
    {
      "cell_type": "code",
      "source": [
        "def check_empty(board):\n",
        "    return \".\"  in board\n",
        "check_empty(board)"
      ],
      "metadata": {
        "colab": {
          "base_uri": "https://localhost:8080/"
        },
        "id": "41VThYQkqFS3",
        "outputId": "1a188755-2ffe-4f67-8217-34eb6b0bd5b2"
      },
      "execution_count": null,
      "outputs": [
        {
          "output_type": "execute_result",
          "data": {
            "text/plain": [
              "True"
            ]
          },
          "metadata": {},
          "execution_count": 130
        }
      ]
    },
    {
      "cell_type": "code",
      "source": [
        "def movegen(board, player):\n",
        "    moves = []\n",
        "    for i in range(9):\n",
        "        if board[i] == \".\":\n",
        "            new_board = board.copy()\n",
        "            new_board[i] = player\n",
        "            moves.append(new_board)\n",
        "    return moves\n",
        "possible_moves = movegen(board, \"x\")\n",
        "\n",
        "for move in possible_moves:\n",
        "    for i in range(0, 9, 3):\n",
        "        print(\" \".join(move[i:i+3]))\n",
        "    print()"
      ],
      "metadata": {
        "colab": {
          "base_uri": "https://localhost:8080/"
        },
        "id": "YYeBHHGEhDDH",
        "outputId": "9682f782-7010-48db-d83d-eacbb83736ee"
      },
      "execution_count": null,
      "outputs": [
        {
          "output_type": "stream",
          "name": "stdout",
          "text": [
            "x o o\n",
            "x o .\n",
            ". x x\n",
            "\n",
            "x o o\n",
            ". o x\n",
            ". x x\n",
            "\n",
            "x o o\n",
            ". o .\n",
            "x x x\n",
            "\n"
          ]
        }
      ]
    },
    {
      "cell_type": "code",
      "source": [
        "for board in possible_moves:\n",
        "  for i in range(0, 9, 3):\n",
        "        print(\" \".join(board[i:i+3]))\n",
        "  print(eval(board))\n",
        "  print()\n",
        "\n",
        "print(\"Best move:\")\n",
        "for i in range(0, 9, 3):\n",
        "        print(\" \".join(best_moves(board, \"x\")[i:i+3]))\n"
      ],
      "metadata": {
        "colab": {
          "base_uri": "https://localhost:8080/"
        },
        "id": "taWiQ5CYjtvM",
        "outputId": "5bf023ee-abdf-4820-d29a-0a0bdd47b5cb"
      },
      "execution_count": null,
      "outputs": [
        {
          "output_type": "stream",
          "name": "stdout",
          "text": [
            "x o o\n",
            "x o .\n",
            ". x x\n",
            "0\n",
            "\n",
            "x o o\n",
            ". o x\n",
            ". x x\n",
            "0\n",
            "\n",
            "x o o\n",
            ". o .\n",
            "x x x\n",
            "1\n",
            "\n",
            "Best move:\n",
            "x o o\n",
            ". o .\n",
            "x x x\n"
          ]
        }
      ]
    },
    {
      "cell_type": "code",
      "source": [
        "def best_moves(board, player):\n",
        "    best_move = None\n",
        "    best_evaluation = float('-inf') if player == \"x\" else float('inf')\n",
        "    for move in movegen(board, player):\n",
        "        evaluation = eval(move)\n",
        "        if (player == \"x\" and evaluation > best_evaluation) or (player == \"o\" and evaluation < best_evaluation):\n",
        "            best_evaluation = evaluation\n",
        "            best_move = move\n",
        "    return best_move\n",
        "\n",
        "best_move = best_moves(board, \"x\")\n",
        "print(\"Best Move:\")\n",
        "for i in range(0, 9, 3):\n",
        "    print(\" \".join(best_move[i:i+3]))"
      ],
      "metadata": {
        "colab": {
          "base_uri": "https://localhost:8080/"
        },
        "id": "udNto8g5pJ9-",
        "outputId": "99d7a022-73a3-42b8-c4b1-ee754895db00"
      },
      "execution_count": null,
      "outputs": [
        {
          "output_type": "stream",
          "name": "stdout",
          "text": [
            "Best Move:\n",
            "x o o\n",
            ". o .\n",
            "x x x\n"
          ]
        }
      ]
    },
    {
      "cell_type": "code",
      "source": [
        "def minimax(board, depth, isMax):\n",
        "  player, opponent = 'x', 'o'\n",
        "  score = evaluate(board)\n",
        "\n",
        "  if (score == 1):\n",
        "    return score\n",
        "\n",
        "  if (score == -1):\n",
        "    return score\n",
        "\n",
        "  if (check_empty(board) == False):\n",
        "    return 0\n",
        "\n",
        "  if (isMax):\n",
        "    best = -1000\n",
        "    for i in range(3):\n",
        "      for j in range(3):\n",
        "        if (board[i][j] == '_'):\n",
        "          board[i][j] = player\n",
        "          print_board(board)\n",
        "          best = max(best, minimax(board, depth + 1, not isMax))\n",
        "          print(best, \"\\n\")\n",
        "          board[i][j] = '_'\n",
        "    return best\n",
        "  else:\n",
        "    best = 1000\n",
        "    for i in range(3):\n",
        "      for j in range(3):\n",
        "        if (board[i][j] == '_'):\n",
        "          board[i][j] = opponent\n",
        "          print_board(board)\n",
        "          best = min(best, minimax(board, depth + 1, not isMax))\n",
        "          print(best, \"\\n\")\n",
        "          board[i][j] = '_'\n",
        "    return best"
      ],
      "metadata": {
        "id": "-FaIFN_y7nYh"
      },
      "execution_count": null,
      "outputs": []
    },
    {
      "cell_type": "code",
      "source": [
        "for i in range(len(possible_moves)):\n",
        "  print(\"------\")\n",
        "  for j in range(0, 9, 3):\n",
        "      print(\" \".join(possible_moves[i][j:j+3]))\n",
        "  print()\n",
        "  print(f\"from {i+1}\")\n",
        "  child=movegen(possible_moves[i],\"o\")\n",
        "  for children in child:\n",
        "    for j in range(0, 9, 3):\n",
        "      print(\" \".join(children[j:j+3]))\n",
        "    print(\"->\",eval(children))\n",
        "    print()"
      ],
      "metadata": {
        "colab": {
          "base_uri": "https://localhost:8080/"
        },
        "id": "_BntIlqbyEHx",
        "outputId": "1cc69bcb-1373-4890-8d3e-06cc70d27eaa"
      },
      "execution_count": null,
      "outputs": [
        {
          "output_type": "stream",
          "name": "stdout",
          "text": [
            "------\n",
            "x o o\n",
            "x o .\n",
            ". x x\n",
            "\n",
            "from 1\n",
            "x o o\n",
            "x o o\n",
            ". x x\n",
            "-> 0\n",
            "\n",
            "x o o\n",
            "x o .\n",
            "o x x\n",
            "-> -1\n",
            "\n",
            "------\n",
            "x o o\n",
            ". o x\n",
            ". x x\n",
            "\n",
            "from 2\n",
            "x o o\n",
            "o o x\n",
            ". x x\n",
            "-> 0\n",
            "\n",
            "x o o\n",
            ". o x\n",
            "o x x\n",
            "-> -1\n",
            "\n",
            "------\n",
            "x o o\n",
            ". o .\n",
            "x x x\n",
            "\n",
            "from 3\n",
            "x o o\n",
            "o o .\n",
            "x x x\n",
            "-> 1\n",
            "\n",
            "x o o\n",
            ". o o\n",
            "x x x\n",
            "-> 1\n",
            "\n"
          ]
        }
      ]
    },
    {
      "cell_type": "code",
      "source": [
        "for i in range(len(child)):\n",
        "  print(\"------\")\n",
        "  for j in range(0, 9, 3):\n",
        "      print(\" \".join(child[i][j:j+3]))\n",
        "  print()\n",
        "  print(f\"from {i+1}\")\n",
        "  children=movegen(child[i],\"o\")\n",
        "  for childrens in children:\n",
        "    for j in range(0, 9, 3):\n",
        "      print(\" \".join(childrens[j:j+3]))\n",
        "    print(\"->\",eval(childrens))\n",
        "    print()"
      ],
      "metadata": {
        "colab": {
          "base_uri": "https://localhost:8080/"
        },
        "id": "DM42exVmwD8k",
        "outputId": "195b4db3-a8a2-4853-bc26-c033ac347018"
      },
      "execution_count": null,
      "outputs": [
        {
          "output_type": "stream",
          "name": "stdout",
          "text": [
            "------\n",
            "x o o\n",
            "o o .\n",
            "x x x\n",
            "\n",
            "from 1\n",
            "x o o\n",
            "o o o\n",
            "x x x\n",
            "-> -1\n",
            "\n",
            "------\n",
            "x o o\n",
            ". o o\n",
            "x x x\n",
            "\n",
            "from 2\n",
            "x o o\n",
            "o o o\n",
            "x x x\n",
            "-> -1\n",
            "\n"
          ]
        }
      ]
    },
    {
      "cell_type": "code",
      "source": [],
      "metadata": {
        "id": "YWoezKnJ-MPe"
      },
      "execution_count": null,
      "outputs": []
    }
  ]
}