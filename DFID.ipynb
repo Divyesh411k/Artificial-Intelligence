{
  "nbformat": 4,
  "nbformat_minor": 0,
  "metadata": {
    "colab": {
      "provenance": []
    },
    "kernelspec": {
      "name": "python3",
      "display_name": "Python 3"
    },
    "language_info": {
      "name": "python"
    }
  },
  "cells": [
    {
      "cell_type": "markdown",
      "source": [
        "#DFID ON TSP"
      ],
      "metadata": {
        "id": "g7z8mbfasocg"
      }
    },
    {
      "cell_type": "code",
      "source": [
        "from collections import defaultdict"
      ],
      "metadata": {
        "id": "HMjsl9jFsrAm"
      },
      "execution_count": null,
      "outputs": []
    },
    {
      "cell_type": "code",
      "source": [
        "def dfs(graph, node, goal, depth, visited):\n",
        "    if depth == 0:\n",
        "        return False\n",
        "    if node == goal:\n",
        "        return True\n",
        "\n",
        "    mark_visited(visited, node)\n",
        "\n",
        "    for neighbor in movegen(graph, node):\n",
        "        if not visited[neighbor]:\n",
        "            if dfs(graph, neighbor, goal, depth - 1, visited):\n",
        "                return True\n",
        "\n",
        "    return False\n"
      ],
      "metadata": {
        "id": "omdRAucmsn2V"
      },
      "execution_count": null,
      "outputs": []
    },
    {
      "cell_type": "code",
      "source": [
        "def dfid(graph, start, goal):\n",
        "    max_depth = 0\n",
        "\n",
        "    while True:\n",
        "        visited = defaultdict(bool)\n",
        "        if dfs(graph, start, goal, max_depth, visited):\n",
        "            return reconstruct_path(graph, start, goal, visited)\n",
        "        max_depth += 1\n"
      ],
      "metadata": {
        "id": "KFXx_Yi8sygp"
      },
      "execution_count": null,
      "outputs": []
    },
    {
      "cell_type": "code",
      "source": [
        "def movegen(graph, node):\n",
        "    return graph[node]\n",
        "\n",
        "def set_goal(goal_node):\n",
        "    return goal_node\n"
      ],
      "metadata": {
        "id": "5r5JeXjRs0uv"
      },
      "execution_count": null,
      "outputs": []
    },
    {
      "cell_type": "code",
      "source": [
        "def reconstruct_path(graph, start, goal, visited):\n",
        "    path = []\n",
        "    current = goal\n",
        "\n",
        "    while current != start:\n",
        "        path.append(current)\n",
        "        for neighbor in graph[current]:\n",
        "            if visited[neighbor]:\n",
        "                current = neighbor\n",
        "                break\n",
        "\n",
        "    path.append(start)\n",
        "    path.reverse()\n",
        "    return path"
      ],
      "metadata": {
        "id": "X5pNLStTs3KL"
      },
      "execution_count": null,
      "outputs": []
    },
    {
      "cell_type": "code",
      "source": [
        "def mark_visited(visited, node):\n",
        "    visited[node] = True\n",
        "\n",
        "def remove_seen(visited, node):\n",
        "    visited[node] = False"
      ],
      "metadata": {
        "id": "zfRbHmrxs6N8"
      },
      "execution_count": null,
      "outputs": []
    },
    {
      "cell_type": "code",
      "source": [
        "graph = {}\n",
        "while True:\n",
        "    key = input(\"Enter a key (or '-1' to quit): \")\n",
        "\n",
        "    if key.lower() == '-1':\n",
        "        break\n",
        "    value = input(f\"Enter a value for '{key}': \")\n",
        "    if key in graph:\n",
        "        graph[key].append(value)\n",
        "    else:\n",
        "        graph[key] = [value]\n",
        "\n",
        "print(\"User Dictionary:\")\n",
        "for key, values in graph.items():\n",
        "    print(f\"{key}: {', '.join(values)}\")"
      ],
      "metadata": {
        "colab": {
          "base_uri": "https://localhost:8080/"
        },
        "id": "rPOv_zJpkcGF",
        "outputId": "cd5a11af-b681-4c82-b172-f5d21eb10cad"
      },
      "execution_count": null,
      "outputs": [
        {
          "output_type": "stream",
          "name": "stdout",
          "text": [
            "Enter a key (or '-1' to quit): S\n",
            "Enter a value for 'S': 'A','B', 'D'\n",
            "Enter a key (or '-1' to quit): A\n",
            "Enter a value for 'A': 'C', 'B', 'S'\n",
            "Enter a key (or '-1' to quit): B\n",
            "Enter a value for 'B': 'A','S', 'C'\n",
            "Enter a key (or '-1' to quit): C\n",
            "Enter a value for 'C': 'B','A'\n",
            "Enter a key (or '-1' to quit): D\n",
            "Enter a value for 'D': 'S', 'G'\n",
            "Enter a key (or '-1' to quit): G\n",
            "Enter a value for 'G': 'D'\n",
            "Enter a key (or '-1' to quit): -1\n",
            "User Dictionary:\n",
            "S: 'A','B', 'D'\n",
            "A: 'C', 'B', 'S'\n",
            "B: 'A','S', 'C'\n",
            "C: 'B','A'\n",
            "D: 'S', 'G'\n",
            "G: 'D'\n"
          ]
        }
      ]
    },
    {
      "cell_type": "code",
      "execution_count": null,
      "metadata": {
        "id": "Zr77mYmmaZoa",
        "colab": {
          "base_uri": "https://localhost:8080/"
        },
        "outputId": "92b9f43b-4141-4b04-9b3f-3beda95d48d3"
      },
      "outputs": [
        {
          "output_type": "stream",
          "name": "stdout",
          "text": [
            "Enter the start node: B\n",
            "Enter the goal node: G\n",
            "Path from B to G: ['B', 'C', 'A', 'S', 'D', 'G']\n"
          ]
        }
      ],
      "source": [
        "graph = {\n",
        "    'S': ['A','B', 'D'],\n",
        "    'A': ['C', 'B', 'S'],\n",
        "    'B': ['A','S', 'C'],\n",
        "    'C': ['B','A'],\n",
        "    'D': ['S', 'G'],\n",
        "    'G': ['D']\n",
        "}\n",
        "\n",
        "start_node = input(\"Enter the start node: \")\n",
        "goal_node = input(\"Enter the goal node: \")\n",
        "\n",
        "goal = set_goal(goal_node)\n",
        "path = dfid(graph, start_node, goal)\n",
        "\n",
        "if path:\n",
        "    print(f\"Path from {start_node} to {goal_node}: {path}\")\n",
        "    for node in path:\n",
        "        remove_seen(graph, node)\n",
        "else:\n",
        "    print(f\"No path found from {start_node} to {goal_node}.\")\n"
      ]
    },
    {
      "cell_type": "code",
      "source": [],
      "metadata": {
        "id": "-6HjDM2-j7T9"
      },
      "execution_count": null,
      "outputs": []
    }
  ]
}